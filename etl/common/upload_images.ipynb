{
 "cells": [
  {
   "cell_type": "code",
   "execution_count": 1,
   "id": "initial_id",
   "metadata": {
    "collapsed": true
   },
   "outputs": [],
   "source": [
    "from etltools.image import upload_file, upload_from_url\n",
    "\n",
    "import os\n",
    "import pandas as pd"
   ]
  },
  {
   "cell_type": "markdown",
   "id": "d1c5730c763e2ad5",
   "metadata": {},
   "source": [
    "# Guide\n",
    "This short notebook can be used to upload the images referenced in a CSV file. The CSV will then be updated to include new persistent URLs for the images, which will be hosted on Azure.\n",
    "\n",
    "However, please note that we assume that the images are all in **separate** columns in the CSV. "
   ]
  },
  {
   "cell_type": "code",
   "execution_count": 2,
   "id": "63a48a4387e651ff",
   "metadata": {},
   "outputs": [
    {
     "data": {
      "text/html": [
       "<div>\n",
       "<style scoped>\n",
       "    .dataframe tbody tr th:only-of-type {\n",
       "        vertical-align: middle;\n",
       "    }\n",
       "\n",
       "    .dataframe tbody tr th {\n",
       "        vertical-align: top;\n",
       "    }\n",
       "\n",
       "    .dataframe thead th {\n",
       "        text-align: right;\n",
       "    }\n",
       "</style>\n",
       "<table border=\"1\" class=\"dataframe\">\n",
       "  <thead>\n",
       "    <tr style=\"text-align: right;\">\n",
       "      <th></th>\n",
       "      <th>id</th>\n",
       "      <th>image</th>\n",
       "    </tr>\n",
       "  </thead>\n",
       "  <tbody>\n",
       "    <tr>\n",
       "      <th>0</th>\n",
       "      <td>1</td>\n",
       "      <td>https://www.dhm.de/datenbank/goering/ccp_img_r...</td>\n",
       "    </tr>\n",
       "    <tr>\n",
       "      <th>1</th>\n",
       "      <td>2</td>\n",
       "      <td>https://kunstgraph.blob.core.windows.net/image...</td>\n",
       "    </tr>\n",
       "  </tbody>\n",
       "</table>\n",
       "</div>"
      ],
      "text/plain": [
       "   id                                              image\n",
       "0   1  https://www.dhm.de/datenbank/goering/ccp_img_r...\n",
       "1   2  https://kunstgraph.blob.core.windows.net/image..."
      ]
     },
     "execution_count": 2,
     "metadata": {},
     "output_type": "execute_result"
    }
   ],
   "source": [
    "# Load the CSV file\n",
    "file_name = 'test.csv'\n",
    "\n",
    "df = pd.read_csv(f'./data/{file_name}')\n",
    "df.head()"
   ]
  },
  {
   "cell_type": "code",
   "execution_count": 3,
   "id": "fdf061d4addd070d",
   "metadata": {},
   "outputs": [],
   "source": [
    "# You need to set the columns containing the urls of images here please. \n",
    "image_columns = ['image']\n",
    "\n",
    "# You need to set the column containing the unique identifier of the images here please.\n",
    "identifier_column = 'id'\n",
    "# Also, please set the name of the source where the images were found here.\n",
    "source_name = 'wccp'"
   ]
  },
  {
   "cell_type": "code",
   "execution_count": 4,
   "id": "aba5385c4db9e1ce",
   "metadata": {},
   "outputs": [],
   "source": [
    "for image_column in image_columns:\n",
    "    for index, row in df.iterrows():\n",
    "        if 'http' in row[image_column]:\n",
    "            image_url = upload_from_url(row[image_column], row[identifier_column], source_name)\n",
    "        else:\n",
    "            image_url = upload_file(directory_name=source_name, file_path=row[image_column], file_name=identifier_column)\n",
    "\n",
    "        df.at[index, f\"persistent_{image_column}\"] = image_url\n",
    "\n",
    "\n",
    "if not os.path.exists('output'):\n",
    "    os.makedirs('output')\n",
    "\n",
    "df.to_csv(f'output/{file_name}', index=False)"
   ]
  }
 ],
 "metadata": {
  "kernelspec": {
   "display_name": "Python 3",
   "language": "python",
   "name": "python3"
  },
  "language_info": {
   "codemirror_mode": {
    "name": "ipython",
    "version": 3
   },
   "file_extension": ".py",
   "mimetype": "text/x-python",
   "name": "python",
   "nbconvert_exporter": "python",
   "pygments_lexer": "ipython3",
   "version": "3.12.3"
  }
 },
 "nbformat": 4,
 "nbformat_minor": 5
}
