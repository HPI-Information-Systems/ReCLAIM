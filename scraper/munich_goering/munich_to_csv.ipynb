{
 "cells": [
  {
   "cell_type": "code",
   "execution_count": 6,
   "metadata": {},
   "outputs": [],
   "source": [
    "import os\n",
    "import pandas as pd"
   ]
  },
  {
   "cell_type": "code",
   "execution_count": 29,
   "metadata": {},
   "outputs": [
    {
     "name": "stdout",
     "output_type": "stream",
     "text": [
      "opening munich_2024-05-01-13-23-41.json\n"
     ]
    }
   ],
   "source": [
    "import json\n",
    "\n",
    "\n",
    "data = pd.DataFrame()\n",
    "\n",
    "for file in os.listdir(\"../data/\"):\n",
    "    if file.startswith(\"munich_\"):\n",
    "        print(f\"opening {file}\")\n",
    "        with open(os.path.join('..', 'data', str(file)), \"r\", encoding='utf-8') as f:\n",
    "            content = pd.read_json(f)\n",
    "            cols_to_drop = []\n",
    "\n",
    "            for col in content.columns:\n",
    "                if any(\n",
    "                    content[col].apply(lambda x: isinstance(x, dict))\n",
    "                ):\n",
    "                    expanded = pd.json_normalize(content[col])\n",
    "                    expanded.columns = [f\"{col}_{c}\" for c in expanded.columns]\n",
    "                    content = pd.concat([content, expanded], axis=1)\n",
    "\n",
    "                    cols_to_drop.append(col)\n",
    "\n",
    "            content.drop(cols_to_drop, axis=1, inplace=True)\n",
    "\n",
    "            data = pd.concat([data, content], ignore_index=True)\n",
    "            \n",
    "\n",
    "\n",
    "data.to_csv(\"../data/munich.csv\", index=False)"
   ]
  },
  {
   "cell_type": "code",
   "execution_count": null,
   "metadata": {},
   "outputs": [],
   "source": []
  }
 ],
 "metadata": {
  "kernelspec": {
   "display_name": "scraper-bBaQIms2-py3.12",
   "language": "python",
   "name": "python3"
  },
  "language_info": {
   "codemirror_mode": {
    "name": "ipython",
    "version": 3
   },
   "file_extension": ".py",
   "mimetype": "text/x-python",
   "name": "python",
   "nbconvert_exporter": "python",
   "pygments_lexer": "ipython3",
   "version": "3.12.3"
  }
 },
 "nbformat": 4,
 "nbformat_minor": 2
}
