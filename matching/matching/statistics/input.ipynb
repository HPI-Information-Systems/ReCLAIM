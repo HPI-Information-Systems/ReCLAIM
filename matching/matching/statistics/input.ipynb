{
 "cells": [
  {
   "cell_type": "code",
   "execution_count": null,
   "metadata": {},
   "outputs": [],
   "source": [
    "import sys\n",
    "import pandas as pd\n",
    "import numpy as np\n",
    "from pymilvus import MilvusClient\n",
    "from dotenv import load_dotenv\n",
    "from scipy.stats import gaussian_kde\n",
    "from sklearn.decomposition import PCA\n",
    "import sys\n",
    "from scipy import stats\n",
    "\n",
    "load_dotenv()\n",
    "\n",
    "import os\n",
    "\n",
    "sys.path.append(\"/\".join(os.getcwd().split(\"/\")[:-2]))"
   ]
  },
  {
   "cell_type": "code",
   "execution_count": null,
   "metadata": {},
   "outputs": [],
   "source": [
    "data = pd.read_csv(\"../../data/labelled_data_dropped.csv\")\n",
    "\n",
    "data.describe()"
   ]
  },
  {
   "cell_type": "code",
   "execution_count": null,
   "metadata": {},
   "outputs": [],
   "source": [
    "print(data.count())\n",
    "print(data[\"label\"].value_counts())"
   ]
  },
  {
   "cell_type": "code",
   "execution_count": null,
   "metadata": {},
   "outputs": [],
   "source": [
    "# duplicates\n",
    "duplicate_rows = data[data.duplicated()]\n",
    "print(f\"Number of duplicate rows: {len(duplicate_rows)}\")\n",
    "duplicate_rows"
   ]
  },
  {
   "cell_type": "code",
   "execution_count": null,
   "metadata": {},
   "outputs": [],
   "source": [
    "data.loc[data[\"label\"] == 1, [\"label\"]].sum() / data[\"label\"].count()"
   ]
  },
  {
   "cell_type": "markdown",
   "metadata": {},
   "source": [
    "# Checking for Representativity\n"
   ]
  },
  {
   "cell_type": "code",
   "execution_count": null,
   "metadata": {},
   "outputs": [],
   "source": [
    "client = MilvusClient(\"../../data/embeddings.db\")\n",
    "labelled_data = pd.read_csv(\"../../data/labelled_data.csv\", low_memory=False)\n",
    "data = pd.read_csv(\"../../data/db.csv\", low_memory=False)"
   ]
  },
  {
   "cell_type": "code",
   "execution_count": null,
   "metadata": {},
   "outputs": [],
   "source": [
    "population_uris = data[\"uri\"].values\n",
    "labelled_uris = []\n",
    "\n",
    "for idx, row in labelled_data.iterrows():\n",
    "\n",
    "    labelled_uris.append(row[\"1_uri\"])\n",
    "    labelled_uris.append(row[\"2_uri\"])\n",
    "\n",
    "labelled_uris = list(set(labelled_uris))"
   ]
  },
  {
   "cell_type": "code",
   "execution_count": null,
   "metadata": {},
   "outputs": [],
   "source": [
    "extracted_labelled_samples_vectors = []\n",
    "\n",
    "for uri in labelled_uris:\n",
    "    try:\n",
    "        extracted_labelled_samples_vectors.append(\n",
    "            client.get(collection_name=\"openai_small\", ids=uri)[0][\"vector\"]\n",
    "        )\n",
    "    except Exception as e:\n",
    "        print(f\"Error for uri {uri}: {e}\")\n",
    "        continue\n",
    "\n",
    "\n",
    "extracted_population_data = []\n",
    "\n",
    "\n",
    "for uri in population_uris:\n",
    "    try:\n",
    "        extracted_population_data.append(\n",
    "            client.get(collection_name=\"openai_small\", ids=uri)[0][\"vector\"]\n",
    "        )\n",
    "    except Exception as e:\n",
    "        print(f\"Error for uri {uri}: {e}\")\n",
    "        continue"
   ]
  },
  {
   "cell_type": "code",
   "execution_count": null,
   "metadata": {},
   "outputs": [],
   "source": [
    "# Perform PCA on population_data\n",
    "pca = PCA(n_components=16)\n",
    "transform = pca.fit(extracted_population_data)\n",
    "population_data_pca = transform.transform(extracted_population_data)\n",
    "labelled_samples_vectors_pca = transform.transform(extracted_labelled_samples_vectors)\n",
    "\n",
    "explained_variance_ratio = pca.explained_variance_ratio_\n",
    "cumulative_explained_variance = np.cumsum(explained_variance_ratio)\n",
    "\n",
    "print(\"Explained Variance Ratio per component:\", explained_variance_ratio)\n",
    "print(\"Cumulative Explained Variance:\", cumulative_explained_variance)"
   ]
  },
  {
   "cell_type": "code",
   "execution_count": null,
   "metadata": {},
   "outputs": [],
   "source": [
    "population_data = np.array(population_data_pca)\n",
    "labelled_samples = np.array(labelled_samples_vectors_pca)\n",
    "\n",
    "kde_population = gaussian_kde(population_data.T, bw_method=\"silverman\")\n",
    "kde_labelled = gaussian_kde(labelled_samples.T, bw_method=\"silverman\")"
   ]
  },
  {
   "cell_type": "code",
   "execution_count": null,
   "metadata": {},
   "outputs": [],
   "source": [
    "np.random.seed(0)\n",
    "\n",
    "num_samples = 100000\n",
    "samples = np.random.uniform(\n",
    "    low=np.minimum(population_data.min(axis=0), labelled_samples.min(axis=0)),\n",
    "    high=np.maximum(population_data.max(axis=0), labelled_samples.max(axis=0)),\n",
    "    size=(num_samples, population_data.shape[1]),\n",
    ")\n",
    "\n",
    "# average distance between samples\n",
    "avg_distance = np.mean(np.linalg.norm(samples, axis=1))\n",
    "\n",
    "pdf_population = kde_population(samples.T)\n",
    "pdf_labelled = kde_labelled(samples.T)\n",
    "\n",
    "# Avoid division by zero and log(0)\n",
    "epsilon = sys.float_info.min\n",
    "pdf_population = np.maximum(pdf_population, epsilon)\n",
    "pdf_labelled = np.maximum(pdf_labelled, epsilon)\n",
    "\n",
    "kl = stats.entropy(pdf_population, pdf_labelled)\n",
    "\n",
    "print(\"Estimated KL Divergence:\", kl)\n",
    "\n",
    "# Optionally, calculate reverse KL divergence\n",
    "kl_reverse = stats.entropy(pdf_labelled, pdf_population)\n",
    "print(\"Estimated Reverse KL Divergence:\", kl_reverse)"
   ]
  },
  {
   "cell_type": "markdown",
   "metadata": {},
   "source": [
    "# Duplicates in labelled data\n"
   ]
  },
  {
   "cell_type": "code",
   "execution_count": null,
   "metadata": {},
   "outputs": [],
   "source": [
    "data = pd.read_csv(\"../../data/labelled_data.csv\", low_memory=False)\n",
    "\n",
    "data_count = data.shape[0]\n",
    "duplicates_count = data.duplicated().sum()\n",
    "\n",
    "data_count, duplicates_count"
   ]
  }
 ],
 "metadata": {
  "kernelspec": {
   "display_name": "matching",
   "language": "python",
   "name": "python3"
  },
  "language_info": {
   "codemirror_mode": {
    "name": "ipython",
    "version": 3
   },
   "file_extension": ".py",
   "mimetype": "text/x-python",
   "name": "python",
   "nbconvert_exporter": "python",
   "pygments_lexer": "ipython3",
   "version": "3.12.3"
  }
 },
 "nbformat": 4,
 "nbformat_minor": 2
}
