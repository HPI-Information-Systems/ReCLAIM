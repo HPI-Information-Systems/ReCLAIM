{
 "cells": [
  {
   "cell_type": "code",
   "execution_count": null,
   "metadata": {},
   "outputs": [],
   "source": [
    "import matplotlib.pyplot as plt\n",
    "import numpy as np\n",
    "import pandas as pd\n",
    "import seaborn as sns\n",
    "from scipy.interpolate import interp1d\n",
    "from sklearn.metrics import auc, precision_recall_curve"
   ]
  },
  {
   "cell_type": "code",
   "execution_count": null,
   "metadata": {},
   "outputs": [],
   "source": [
    "slurmId = \"\"  # id of the slurm job assigned to the run you want to analyze\n",
    "colour_train = \"#F79647\"\n",
    "colour_pretrain = \"#5D97BF\""
   ]
  },
  {
   "cell_type": "code",
   "execution_count": null,
   "metadata": {},
   "outputs": [],
   "source": [
    "data = pd.read_csv(\"../../data/output/predictions.csv\", index_col=0)\n",
    "data = data[data[\"run_id\"].str.contains(f\"slurmId={slurmId}\")]\n",
    "\n",
    "data[\"pretrain\"] = data[\"run_id\"].str.contains(\"pretrain\")\n",
    "data[\"seed\"] = data[\"run_id\"].str.extract(\"seed=(\\d+)\")\n",
    "\n",
    "pretrain_data = data[data[\"pretrain\"]]\n",
    "non_pretrain_data = data[~data[\"pretrain\"]]\n",
    "\n",
    "data"
   ]
  },
  {
   "cell_type": "code",
   "execution_count": null,
   "metadata": {},
   "outputs": [],
   "source": [
    "model_name = \"Ditto-R\" if data[\"run_id\"].str.contains(\"roberta\").any() else \"Ditto-D\""
   ]
  },
  {
   "cell_type": "markdown",
   "metadata": {},
   "source": [
    "# Precision Recall plots\n",
    "\n",
    "Calculates the mean of the linearly interpolated precision-recall curve for a given set of predictions and labels.\n"
   ]
  },
  {
   "cell_type": "code",
   "execution_count": null,
   "metadata": {},
   "outputs": [],
   "source": [
    "def average_precision_recall_curves(pr_curves, recall_points=None):\n",
    "    if recall_points is None:\n",
    "        recall_points = np.linspace(0, 1, 100)\n",
    "\n",
    "    interpolated_precisions = []\n",
    "\n",
    "    for curve in pr_curves:\n",
    "        precisions, recalls, _ = curve\n",
    "        # Interpolate precision at fixed recall points\n",
    "        interp_precision = interp1d(\n",
    "            recalls, precisions, kind=\"linear\", bounds_error=False, fill_value=0\n",
    "        )\n",
    "        interpolated_precisions.append(interp_precision(recall_points))\n",
    "\n",
    "    # Average the interpolated precisions\n",
    "    avg_precision = np.mean(interpolated_precisions, axis=0)\n",
    "\n",
    "    return recall_points, avg_precision\n",
    "\n",
    "\n",
    "def calculate_pr_curve(df):\n",
    "    # group by the seed\n",
    "    grouped = df.groupby(\"seed\")\n",
    "    pr_curves = [\n",
    "        precision_recall_curve(group[\"label\"], group[\"probability_match\"])\n",
    "        for _, group in grouped\n",
    "    ]\n",
    "    recall_points, avg_precision = average_precision_recall_curves(pr_curves)\n",
    "\n",
    "    return pd.DataFrame({\"precision\": avg_precision, \"recall\": recall_points})\n",
    "\n",
    "\n",
    "pretrain_pr = calculate_pr_curve(pretrain_data)\n",
    "non_pretrain_pr = calculate_pr_curve(non_pretrain_data)\n",
    "\n",
    "# Plot PR curves\n",
    "plt.figure(figsize=(6.5, 5))\n",
    "plt.rcParams.update(\n",
    "    {\n",
    "        \"font.size\": 20,\n",
    "        \"axes.titlesize\": 20,\n",
    "    }\n",
    ")\n",
    "plt.plot(\n",
    "    pretrain_pr[\"recall\"],\n",
    "    pretrain_pr[\"precision\"],\n",
    "    color=colour_pretrain,\n",
    "    label=f\"P-{model_name}\",\n",
    ")\n",
    "plt.plot(\n",
    "    non_pretrain_pr[\"recall\"],\n",
    "    non_pretrain_pr[\"precision\"],\n",
    "    color=colour_train,\n",
    "    label=f\"{model_name}\",\n",
    ")\n",
    "\n",
    "plt.xlabel(\"Recall\")\n",
    "plt.ylabel(\"Precision\")\n",
    "plt.legend(title=\"Model Type\", loc=\"upper right\")\n",
    "\n",
    "plt.tight_layout()\n",
    "\n",
    "plt.savefig(f\"../../data/output/plots/pr_curve_calculated_{model_name}.pdf\")\n",
    "plt.show()"
   ]
  }
 ],
 "metadata": {
  "kernelspec": {
   "display_name": "bp-matching",
   "language": "python",
   "name": "python3"
  },
  "language_info": {
   "codemirror_mode": {
    "name": "ipython",
    "version": 3
   },
   "file_extension": ".py",
   "mimetype": "text/x-python",
   "name": "python",
   "nbconvert_exporter": "python",
   "pygments_lexer": "ipython3",
   "version": "3.12.3"
  }
 },
 "nbformat": 4,
 "nbformat_minor": 2
}
