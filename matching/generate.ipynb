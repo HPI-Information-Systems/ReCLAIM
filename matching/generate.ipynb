{
  "cells": [
    {
      "cell_type": "code",
      "execution_count": null,
      "metadata": {
        "ExecuteTime": {
          "end_time": "2024-05-06T15:07:58.341318Z",
          "start_time": "2024-05-06T15:07:58.334479Z"
        }
      },
      "outputs": [],
      "source": [
        "import os\n",
        "\n",
        "from typing import List\n",
        "\n",
        "import pandas as pd\n",
        "import numpy as np\n",
        "\n",
        "from matching.utils.pair_generation import naive_pair_generation\n",
        "from matching.utils.db.extract import extract_labelled_samples\n",
        "from matching.utils.db.features import get_relevant_features\n",
        "\n",
        "import matching.config as conf\n",
        "\n",
        "config = conf.Settings()"
      ]
    },
    {
      "cell_type": "markdown",
      "metadata": {},
      "source": [
        "# Data Loading\n"
      ]
    },
    {
      "cell_type": "code",
      "execution_count": null,
      "metadata": {},
      "outputs": [],
      "source": [
        "from matching.utils.db.dump import dump_database\n",
        "\n",
        "data = dump_database(\n",
        "    path=\"data/db.csv\",\n",
        "    uri=os.getenv(\"NEO4J_URI\"),\n",
        "    username=os.getenv(\"NEO4J_URI\"),\n",
        "    password=os.getenv(\"NEO4J_PASSWORD\"),\n",
        ")"
      ]
    },
    {
      "cell_type": "code",
      "execution_count": null,
      "metadata": {
        "ExecuteTime": {
          "end_time": "2024-05-06T15:08:01.348630Z",
          "start_time": "2024-05-06T15:08:01.310309Z"
        }
      },
      "outputs": [],
      "source": [
        "data = pd.read_csv(\"data/db.csv\", index_col=0)\n",
        "\n",
        "data = get_relevant_features(data)"
      ]
    },
    {
      "cell_type": "markdown",
      "metadata": {},
      "source": [
        "## Embedding Generation\n",
        "\n",
        "Only run this code if you do not have an embeddings database available to you.\n"
      ]
    },
    {
      "cell_type": "code",
      "execution_count": null,
      "metadata": {},
      "outputs": [],
      "source": [
        "from matching.embed.openai import OpenAIEmbedder\n",
        "from matching.utils.db.features import get_relevant_features\n",
        "\n",
        "data = pd.read_csv(\"./data/db.csv\")\n",
        "\n",
        "data = get_relevant_features(data)\n",
        "embedder = OpenAIEmbedder(collection_name=\"openai_small\")\n",
        "\n",
        "embedder.batch_embed(data)"
      ]
    },
    {
      "cell_type": "markdown",
      "metadata": {},
      "source": [
        "# Data augmentation prior to pair generation\n"
      ]
    },
    {
      "cell_type": "markdown",
      "metadata": {},
      "source": [
        "# Labelled Sample extraction\n",
        "\n",
        "This cell iterates over our dataset and extracts all pairs where the munichNumber / wccpNumber etc. foreign keys are present. We assume a clean to clean mapping between the foreign keys and the actual object.\n"
      ]
    },
    {
      "cell_type": "code",
      "execution_count": null,
      "metadata": {},
      "outputs": [],
      "source": [
        "if os.path.exists(\"data/found_samples.csv\"):\n",
        "    found_samples = pd.read_csv(\"data/found_samples.csv\")\n",
        "else:\n",
        "    found_samples = extract_labelled_samples(data)\n",
        "    found_samples.to_csv(\"data/found_samples.csv\", index=False)\n",
        "\n",
        "found_samples.head()"
      ]
    },
    {
      "cell_type": "code",
      "execution_count": null,
      "metadata": {},
      "outputs": [],
      "source": [
        "if config.drop_foreign_keys:\n",
        "    data.drop(\n",
        "        columns=[\n",
        "            \"munichNumber\",\n",
        "            \"marburgNumber\",\n",
        "            \"errNumber\",\n",
        "            \"linzNumber\",\n",
        "            \"wccpNumber\",\n",
        "        ],\n",
        "        inplace=True,\n",
        "    )"
      ]
    },
    {
      "cell_type": "markdown",
      "metadata": {},
      "source": [
        "# Pair generation\n"
      ]
    },
    {
      "cell_type": "code",
      "execution_count": null,
      "metadata": {
        "ExecuteTime": {
          "end_time": "2024-05-06T15:08:01.721801Z",
          "start_time": "2024-05-06T15:08:01.350065Z"
        }
      },
      "outputs": [],
      "source": [
        "matches = pd.DataFrame()\n",
        "\n",
        "available_data = pd.DataFrame(columns=[\"match_id\"])\n",
        "\n",
        "for index, row in found_samples.iterrows():\n",
        "\n",
        "    matched_data: pd.DataFrame = pd.DataFrame()\n",
        "\n",
        "    for col in found_samples.columns:\n",
        "        if str(row[col]) != \"nan\" and row[col] is not None:\n",
        "            test = data[data[\"uri\"] == row[col]]\n",
        "            if len(test) == 0:\n",
        "                print(\"No match found for\", row[col])\n",
        "                print(row)\n",
        "            matched_data = pd.concat([matched_data, data[data[\"uri\"] == row[col]]])\n",
        "\n",
        "    pairs = naive_pair_generation(matched_data)\n",
        "\n",
        "    pairs[\"match_id\"] = index\n",
        "\n",
        "    matches = pd.concat([matches, pairs])\n",
        "\n",
        "    matched_data[\"match_id\"] = int(index)\n",
        "\n",
        "    available_data = pd.concat([available_data, matched_data])\n",
        "\n",
        "matches.reset_index(drop=True, inplace=True)\n",
        "matches"
      ]
    },
    {
      "cell_type": "markdown",
      "metadata": {},
      "source": [
        "## Add negative samples\n"
      ]
    },
    {
      "cell_type": "code",
      "execution_count": null,
      "metadata": {},
      "outputs": [],
      "source": [
        "from matching.generation.neighbourhood import Neighbourhood\n",
        "from matching.generation.pair_generator import PairGenerator\n",
        "\n",
        "\n",
        "pair_generator = PairGenerator(data=available_data)\n",
        "\n",
        "neighbourhood = Neighbourhood(\n",
        "    data=data,\n",
        "    collection_name=\"openai_small\",\n",
        "    num_neighbours=2,\n",
        ")\n",
        "\n",
        "pair_generator.neighbourhood_generator = neighbourhood"
      ]
    },
    {
      "cell_type": "code",
      "execution_count": null,
      "metadata": {},
      "outputs": [],
      "source": [
        "negative_samples = pd.DataFrame()\n",
        "\n",
        "\n",
        "np.random.seed(0)\n",
        "count = 0\n",
        "\n",
        "\n",
        "for index, row in matches.iterrows():\n",
        "    left = row[[col for col in row.index if col.startswith(\"1_\")]]\n",
        "    right = row[[col for col in row.index if col.startswith(\"2_\")]]\n",
        "\n",
        "    neighbourhood_left = neighbourhood.find_neighbourhood(left.rename(lambda x: x[2:]))\n",
        "    neighbourhood_right = neighbourhood.find_neighbourhood(\n",
        "        right.rename(lambda x: x[2:])\n",
        "    )\n",
        "\n",
        "    neighbours = []\n",
        "\n",
        "    for uri, neighbour in neighbourhood_right.iterrows():\n",
        "        neighbour = neighbour.rename(lambda x: \"2_\" + x)\n",
        "        neighbours.append(pd.concat([left, neighbour]))\n",
        "\n",
        "    for uri, neighbour in neighbourhood_left.iterrows():\n",
        "        neighbour = neighbour.rename(lambda x: \"1_\" + x)\n",
        "        neighbours.append(pd.concat([neighbour, right]))\n",
        "\n",
        "    random_index = np.random.randint(0, len(neighbours))\n",
        "    random_select = neighbours[random_index]\n",
        "\n",
        "    negative_samples = pd.concat([negative_samples, random_select.to_frame().T])\n",
        "\n",
        "negative_samples[\"label\"] = 0\n",
        "\n",
        "negative_samples = negative_samples.loc[\n",
        "    :, ~negative_samples.columns.str.contains(\"match_id\")\n",
        "].copy()\n",
        "\n",
        "negative_samples.head()"
      ]
    },
    {
      "cell_type": "code",
      "execution_count": null,
      "metadata": {
        "ExecuteTime": {
          "end_time": "2024-05-06T15:10:02.137841Z",
          "start_time": "2024-05-06T15:10:02.066751Z"
        }
      },
      "outputs": [],
      "source": [
        "labelled_data = pd.concat([matches, negative_samples])\n",
        "labelled_data = labelled_data.sample(frac=1).reset_index(drop=True)\n",
        "labelled_data = labelled_data.loc[:, ~labelled_data.columns.str.contains(\"match_id\")]\n",
        "labelled_data.to_csv(\"data/labelled_data.csv\", index=False)\n",
        "\n",
        "labelled_data.drop_duplicates().to_csv(\"data/labelled_data_dropped.csv\", index=False)"
      ]
    },
    {
      "cell_type": "code",
      "execution_count": null,
      "metadata": {},
      "outputs": [],
      "source": [
        "print(\"Positive samples: \", len(matches))\n",
        "print(\"Negative samples: \", len(negative_samples))"
      ]
    }
  ],
  "metadata": {
    "kernelspec": {
      "display_name": "matching-Cd_Tgy4y-py3.12",
      "language": "python",
      "name": "python3"
    },
    "language_info": {
      "codemirror_mode": {
        "name": "ipython",
        "version": 3
      },
      "file_extension": ".py",
      "mimetype": "text/x-python",
      "name": "python",
      "nbconvert_exporter": "python",
      "pygments_lexer": "ipython3",
      "version": "3.12.3"
    }
  },
  "nbformat": 4,
  "nbformat_minor": 2
}
